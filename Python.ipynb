#Python Tips

##File IO

##Pandas
```python
import numpy as np
import pandas as pd

def insert_row(i, row, df):
    dr = pd.DataFrame(dict(zip(df.columns, row)))
    dn = pd.concat([df.iloc[:i], dr, df.iloc[i:]], axis=0, ignore_index=True)
    return dn
```

##NumPy
